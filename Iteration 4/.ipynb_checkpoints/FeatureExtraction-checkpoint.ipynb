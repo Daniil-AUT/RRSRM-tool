{
 "cells": [
  {
   "cell_type": "code",
   "execution_count": 877,
   "id": "2c51ccf0-e646-44dc-9b4a-399d85e34312",
   "metadata": {},
   "outputs": [],
   "source": [
    "import pandas as pd\n",
    "import numpy as np\n",
    "import re\n",
    "import string\n",
    "import matplotlib.pyplot as plt\n",
    "from sklearn.model_selection import StratifiedKFold\n",
    "import seaborn as sns\n",
    "from sklearn.model_selection import KFold, train_test_split, cross_validate, RepeatedStratifiedKFold\n",
    "from sklearn.svm import LinearSVC, SVC\n",
    "from sklearn.naive_bayes import MultinomialNB\n",
    "from sklearn.linear_model import LogisticRegression\n",
    "from sklearn.tree import DecisionTreeClassifier\n",
    "from sklearn.neighbors import KNeighborsClassifier\n",
    "from sklearn.feature_extraction.text import TfidfVectorizer\n",
    "from sklearn.metrics import make_scorer, precision_score, recall_score, f1_score, accuracy_score, classification_report\n",
    "from sklearn.preprocessing import StandardScaler, LabelEncoder\n",
    "from sklearn.pipeline import Pipeline\n",
    "from sklearn.decomposition import PCA\n",
    "from sklearn.cluster import DBSCAN\n",
    "from imblearn.over_sampling import SMOTE\n",
    "from imblearn.pipeline import Pipeline as ImbPipeline\n",
    "import nltk\n",
    "from sklearn.model_selection import GridSearchCV\n",
    "from nltk.tokenize import word_tokenize, sent_tokenize\n",
    "from nltk.corpus import stopwords\n",
    "from nltk.stem import PorterStemmer, WordNetLemmatizer\n"
   ]
  },
  {
   "cell_type": "code",
   "execution_count": 881,
   "id": "36df88bd-5ed2-440e-a596-18a1255f0b0d",
   "metadata": {},
   "outputs": [
    {
     "data": {
      "text/html": [
       "<div>\n",
       "<style scoped>\n",
       "    .dataframe tbody tr th:only-of-type {\n",
       "        vertical-align: middle;\n",
       "    }\n",
       "\n",
       "    .dataframe tbody tr th {\n",
       "        vertical-align: top;\n",
       "    }\n",
       "\n",
       "    .dataframe thead th {\n",
       "        text-align: right;\n",
       "    }\n",
       "</style>\n",
       "<table border=\"1\" class=\"dataframe\">\n",
       "  <thead>\n",
       "    <tr style=\"text-align: right;\">\n",
       "      <th></th>\n",
       "      <th>User Stories</th>\n",
       "      <th>Unambiguous Criteria</th>\n",
       "    </tr>\n",
       "  </thead>\n",
       "  <tbody>\n",
       "    <tr>\n",
       "      <th>0</th>\n",
       "      <td>As a Data user, I want to have the 12-19-2017 ...</td>\n",
       "      <td>0</td>\n",
       "    </tr>\n",
       "    <tr>\n",
       "      <th>1</th>\n",
       "      <td>As a UI designer, I want to redesign the Resou...</td>\n",
       "      <td>1</td>\n",
       "    </tr>\n",
       "    <tr>\n",
       "      <th>2</th>\n",
       "      <td>As a UI designer, I want to report to the Agen...</td>\n",
       "      <td>1</td>\n",
       "    </tr>\n",
       "    <tr>\n",
       "      <th>3</th>\n",
       "      <td>As a UI designer, I want to move on to round 2...</td>\n",
       "      <td>1</td>\n",
       "    </tr>\n",
       "    <tr>\n",
       "      <th>4</th>\n",
       "      <td>As a UI designer, I want to move on to round 2...</td>\n",
       "      <td>1</td>\n",
       "    </tr>\n",
       "    <tr>\n",
       "      <th>5</th>\n",
       "      <td>As a UI designer, I want to move on to round 3...</td>\n",
       "      <td>1</td>\n",
       "    </tr>\n",
       "    <tr>\n",
       "      <th>6</th>\n",
       "      <td>As a Developer , I want to be able to log bett...</td>\n",
       "      <td>0</td>\n",
       "    </tr>\n",
       "    <tr>\n",
       "      <th>7</th>\n",
       "      <td>As a Developer, I want to add the updates on a...</td>\n",
       "      <td>1</td>\n",
       "    </tr>\n",
       "    <tr>\n",
       "      <th>8</th>\n",
       "      <td>As a DevOps engineer, I want New Relic to prov...</td>\n",
       "      <td>0</td>\n",
       "    </tr>\n",
       "    <tr>\n",
       "      <th>9</th>\n",
       "      <td>As a UI designer,  I want to move on to round ...</td>\n",
       "      <td>1</td>\n",
       "    </tr>\n",
       "  </tbody>\n",
       "</table>\n",
       "</div>"
      ],
      "text/plain": [
       "                                        User Stories  Unambiguous Criteria\n",
       "0  As a Data user, I want to have the 12-19-2017 ...                     0\n",
       "1  As a UI designer, I want to redesign the Resou...                     1\n",
       "2  As a UI designer, I want to report to the Agen...                     1\n",
       "3  As a UI designer, I want to move on to round 2...                     1\n",
       "4  As a UI designer, I want to move on to round 2...                     1\n",
       "5  As a UI designer, I want to move on to round 3...                     1\n",
       "6  As a Developer , I want to be able to log bett...                     0\n",
       "7  As a Developer, I want to add the updates on a...                     1\n",
       "8  As a DevOps engineer, I want New Relic to prov...                     0\n",
       "9  As a UI designer,  I want to move on to round ...                     1"
      ]
     },
     "execution_count": 881,
     "metadata": {},
     "output_type": "execute_result"
    }
   ],
   "source": [
    "\n",
    "# Load the dataset as a CSV\n",
    "file_path = './labelledData/userStory.xlsx'\n",
    "data = pd.read_excel(file_path)\n",
    "\n",
    "# Function to extract numeric values from text\n",
    "def extract_numeric(value):\n",
    "    # Use regex to find numeric part\n",
    "    match = re.search(r'^(\\d+)', str(value))\n",
    "    if match:\n",
    "        return int(match.group(1))\n",
    "    else:\n",
    "        return np.nan  # Return NaN if no numeric part found\n",
    "\n",
    "# Apply function to extract numeric values\n",
    "data['Unambiguous Criteria'] = data['Unambiguous Criteria'].apply(extract_numeric)\n",
    "\n",
    "# Handle NaN values by filling with a default value (e.g., 0)\n",
    "data['Unambiguous Criteria'] = data['Unambiguous Criteria'].fillna(0).astype(int)\n",
    "data.head(10)"
   ]
  },
  {
   "cell_type": "code",
   "execution_count": 847,
   "id": "6a806ca8-0001-4483-99b8-59b7eb071c0f",
   "metadata": {},
   "outputs": [
    {
     "name": "stdout",
     "output_type": "stream",
     "text": [
      "0    As a Data user I want to have the 12192017 del...\n",
      "1    As a UI designer I want to redesign the Resour...\n",
      "2    As a UI designer I want to report to the Agenc...\n",
      "3    As a UI designer I want to move on to round 2 ...\n",
      "4    As a UI designer I want to move on to round 2 ...\n",
      "Name: User Stories, dtype: object\n"
     ]
    }
   ],
   "source": [
    "# Preprocessing function\n",
    "def remove_punctuation(text):\n",
    "    if isinstance(text, str):\n",
    "        return re.sub(f'[{re.escape(string.punctuation)}]', '', text)\n",
    "    else:\n",
    "        return ''  # Handle non-string values by returning an empty string\n",
    "\n",
    "# Apply preprocessing\n",
    "texts = data['User Stories'].apply(remove_punctuation)\n",
    "\n",
    "# Display the first few rows to ensure preprocessing worked correctly\n",
    "print(texts.head())"
   ]
  },
  {
   "cell_type": "code",
   "execution_count": 849,
   "id": "5b84c602-bae4-4f94-8e7d-fdbba064c9fb",
   "metadata": {},
   "outputs": [
    {
     "data": {
      "text/plain": [
       "['tfidf_vectorizer.joblib']"
      ]
     },
     "execution_count": 849,
     "metadata": {},
     "output_type": "execute_result"
    }
   ],
   "source": [
    "# Initialize TF-IDF Vectorizer\n",
    "vectorizer = TfidfVectorizer(stop_words=None)  # You can set stop_words=None if you are not removing them\n",
    "\n",
    "X = vectorizer.fit_transform(texts)\n",
    "y = data['Unambiguous Criteria']\n",
    "# Save the vectorizer to a file\n",
    "joblib.dump(vectorizer, 'tfidf_vectorizer.joblib')"
   ]
  },
  {
   "cell_type": "code",
   "execution_count": 851,
   "id": "2bc63ac9-c6c6-4ee6-8f5a-3f8ece11d91b",
   "metadata": {},
   "outputs": [],
   "source": [
    "class_distribution = y.value_counts()\n",
    "# Convert class distribution to DataFrame for easier plotting\n",
    "class_distribution_df = class_distribution.reset_index()\n",
    "class_distribution_df.columns = ['Class', 'Count']"
   ]
  },
  {
   "cell_type": "code",
   "execution_count": 853,
   "id": "5853dadc-4e74-452c-b0cf-ac5c3cac0337",
   "metadata": {},
   "outputs": [
    {
     "data": {
      "image/png": "[encoded data removed]",
      "text/plain": [
       "<Figure size 400x300 with 1 Axes>"
      ]
     },
     "metadata": {},
     "output_type": "display_data"
    }
   ],
   "source": [
    "# Create the bar plot without using the deprecated palette\n",
    "plt.figure(figsize=(4, 3))\n",
    "sns.barplot(data=class_distribution_df, x='Class', y='Count', palette='viridis', hue='Class')\n",
    "plt.title('Class Distribution of Unambiguous Criteria')\n",
    "plt.xlabel('Class')\n",
    "plt.ylabel('Count')\n",
    "plt.xticks(rotation=45)\n",
    "plt.tight_layout()\n",
    "plt.show()"
   ]
  },
  {
   "cell_type": "code",
   "execution_count": 855,
   "id": "75457f7f-f2c6-4694-ac12-223e4371c385",
   "metadata": {},
   "outputs": [],
   "source": [
    "# Apply SMOTE to the feature matrix and labels\n",
    "smote = SMOTE(random_state=42)\n",
    "X_resampled, y_resampled = smote.fit_resample(X, y)\n",
    "\n",
    "# Check new class distribution\n",
    "resampled_class_distribution = pd.Series(y_resampled).value_counts()\n",
    "\n",
    "# Create a DataFrame for easier plotting\n",
    "resampled_class_distribution = pd.DataFrame({\n",
    "    'Class': resampled_class_distribution.index,\n",
    "    'Count': resampled_class_distribution.values\n",
    "})\n"
   ]
  },
  {
   "cell_type": "code",
   "execution_count": 857,
   "id": "3dd2d7ae-4950-47fb-b3d4-d5de96d3ac5a",
   "metadata": {},
   "outputs": [
    {
     "data": {
      "image/png": "[encoded data removed]",
      "text/plain": [
       "<Figure size 400x300 with 1 Axes>"
      ]
     },
     "metadata": {},
     "output_type": "display_data"
    }
   ],
   "source": [
    "# Create the bar plot without using the deprecated palette\n",
    "plt.figure(figsize=(4, 3))\n",
    "sns.barplot(data=resampled_class_distribution, x='Class', y='Count', palette='viridis', hue='Class')\n",
    "plt.title('Class Distribution of Unambiguous Criteria')\n",
    "plt.xlabel('Class')\n",
    "plt.ylabel('Count')\n",
    "plt.xticks(rotation=45)\n",
    "plt.tight_layout()\n",
    "plt.show()"
   ]
  },
  {
   "cell_type": "code",
   "execution_count": 859,
   "id": "c8db2a5b-963d-491a-a0f0-c75ccee7a4d7",
   "metadata": {},
   "outputs": [],
   "source": [
    "classifiers = {\n",
    "    'Support Vector Machines': SVC(kernel='linear', random_state=None),\n",
    "    'Multinomial Naive Bayes': MultinomialNB(),\n",
    "    'Logistic Regression': LogisticRegression(max_iter=1000, random_state=42),\n",
    "    'Decision Tree': DecisionTreeClassifier(random_state=42),\n",
    "    'K-Nearest Neighbors': KNeighborsClassifier(n_neighbors=3)\n",
    "}"
   ]
  },
  {
   "cell_type": "code",
   "execution_count": 861,
   "id": "d174c683-17d3-4960-9994-b6e0deeac9be",
   "metadata": {},
   "outputs": [],
   "source": [
    "# Define scoring metrics\n",
    "scoring = {\n",
    "    'accuracy': make_scorer(accuracy_score),\n",
    "    'precision': make_scorer(precision_score, average='weighted', zero_division=1),\n",
    "    'recall': make_scorer(recall_score, average='weighted', zero_division=1),\n",
    "    'f1': make_scorer(f1_score, average='weighted', zero_division=1)\n",
    "}"
   ]
  },
  {
   "cell_type": "code",
   "execution_count": 863,
   "id": "448e3b77-4212-46a6-bd76-56393d67ebfe",
   "metadata": {},
   "outputs": [],
   "source": [
    "def useStratifiedCrossValidation(XValue, yValue):\n",
    "    # Initialize StratifiedKFold cross-validator\n",
    "    skf = StratifiedKFold(n_splits=10, shuffle=True, random_state=42)\n",
    "    \n",
    "    # Iterate over classifiers\n",
    "    for name, clf in classifiers.items():\n",
    "        print(f\"Evaluating {name}...\")\n",
    "        \n",
    "        # Perform cross-validation\n",
    "        results = cross_validate(clf, XValue, yValue, cv=skf, scoring=scoring, return_train_score=False)\n",
    "        \n",
    "        # Print metrics\n",
    "        print(f\"Accuracy: {results['test_accuracy'].mean():.4f} ± {results['test_accuracy'].std():.4f}\")\n",
    "        print(f\"Precision: {results['test_precision'].mean():.4f} ± {results['test_precision'].std():.4f}\")\n",
    "        print(f\"Recall: {results['test_recall'].mean():.4f} ± {results['test_recall'].std():.4f}\")\n",
    "        print(f\"F1 Score: {results['test_f1'].mean():.4f} ± {results['test_f1'].std():.4f}\")\n",
    "        print('-' * 40)"
   ]
  },
  {
   "cell_type": "code",
   "execution_count": 865,
   "id": "8338e47c-1ad0-4133-b8c2-7722f73bf982",
   "metadata": {},
   "outputs": [
    {
     "name": "stdout",
     "output_type": "stream",
     "text": [
      "Evaluating Support Vector Machines...\n",
      "Accuracy: 0.9960 ± 0.0039\n",
      "Precision: 0.9961 ± 0.0038\n",
      "Recall: 0.9960 ± 0.0039\n",
      "F1 Score: 0.9960 ± 0.0039\n",
      "----------------------------------------\n",
      "Evaluating Multinomial Naive Bayes...\n",
      "Accuracy: 0.9404 ± 0.0157\n",
      "Precision: 0.9469 ± 0.0130\n",
      "Recall: 0.9404 ± 0.0157\n",
      "F1 Score: 0.9401 ± 0.0159\n",
      "----------------------------------------\n",
      "Evaluating Logistic Regression...\n",
      "Accuracy: 0.9865 ± 0.0073\n",
      "Precision: 0.9869 ± 0.0070\n",
      "Recall: 0.9865 ± 0.0073\n",
      "F1 Score: 0.9865 ± 0.0073\n",
      "----------------------------------------\n",
      "Evaluating Decision Tree...\n",
      "Accuracy: 0.9582 ± 0.0129\n",
      "Precision: 0.9592 ± 0.0122\n",
      "Recall: 0.9582 ± 0.0129\n",
      "F1 Score: 0.9582 ± 0.0130\n",
      "----------------------------------------\n",
      "Evaluating K-Nearest Neighbors...\n",
      "Accuracy: 0.9822 ± 0.0070\n",
      "Precision: 0.9829 ± 0.0064\n",
      "Recall: 0.9822 ± 0.0070\n",
      "F1 Score: 0.9822 ± 0.0070\n",
      "----------------------------------------\n"
     ]
    }
   ],
   "source": [
    "useStratifiedCrossValidation(X_resampled, y_resampled)"
   ]
  },
  {
   "cell_type": "code",
   "execution_count": 867,
   "id": "994d31ec-ae62-4607-9c28-c92a50db25fa",
   "metadata": {},
   "outputs": [
    {
     "name": "stdout",
     "output_type": "stream",
     "text": [
      "Evaluating Support Vector Machines...\n",
      "Accuracy: 0.9469 ± 0.0084\n",
      "Precision: 0.9474 ± 0.0114\n",
      "Recall: 0.9469 ± 0.0084\n",
      "F1 Score: 0.9272 ± 0.0147\n",
      "----------------------------------------\n",
      "Evaluating Multinomial Naive Bayes...\n",
      "Accuracy: 0.9388 ± 0.0028\n",
      "Precision: 0.9426 ± 0.0024\n",
      "Recall: 0.9388 ± 0.0028\n",
      "F1 Score: 0.9092 ± 0.0041\n",
      "----------------------------------------\n",
      "Evaluating Logistic Regression...\n",
      "Accuracy: 0.9388 ± 0.0028\n",
      "Precision: 0.9426 ± 0.0024\n",
      "Recall: 0.9388 ± 0.0028\n",
      "F1 Score: 0.9092 ± 0.0041\n",
      "----------------------------------------\n",
      "Evaluating Decision Tree...\n",
      "Accuracy: 0.9244 ± 0.0147\n",
      "Precision: 0.9171 ± 0.0203\n",
      "Recall: 0.9244 ± 0.0147\n",
      "F1 Score: 0.9197 ± 0.0161\n",
      "----------------------------------------\n",
      "Evaluating K-Nearest Neighbors...\n",
      "Accuracy: 0.9428 ± 0.0054\n",
      "Precision: 0.9462 ± 0.0048\n",
      "Recall: 0.9428 ± 0.0054\n",
      "F1 Score: 0.9183 ± 0.0104\n",
      "----------------------------------------\n"
     ]
    }
   ],
   "source": [
    "useStratifiedCrossValidation(X, y)"
   ]
  },
  {
   "cell_type": "code",
   "execution_count": 661,
   "id": "154fe20b-20d8-4de7-b90a-ad453b76c89e",
   "metadata": {},
   "outputs": [
    {
     "name": "stdout",
     "output_type": "stream",
     "text": [
      "Fitting 5 folds for each of 19440 candidates, totalling 97200 fits\n",
      "Best Parameters: {'C': 1, 'class_weight': 'balanced', 'coef0': 0, 'degree': 2, 'gamma': 0.1, 'kernel': 'rbf', 'max_iter': -1, 'tol': 0.001}\n",
      "Best Score: 0.9244\n"
     ]
    }
   ],
   "source": [
    "# Define the model\n",
    "bestModel = SVC(random_state=42)\n",
    "\n",
    "# Define the parameter grid with different kernels and their specific parameters\n",
    "param_grid = {\n",
    "    'C': [0.001, 0.01, 0.1, 1, 10, 100],\n",
    "    'max_iter': [-1, 1000, 2000],\n",
    "    'tol': [1e-3, 1e-4, 1e-5],\n",
    "    'class_weight': [None, 'balanced'],\n",
    "    \n",
    "    # Parameters for different kernels\n",
    "    'kernel': ['linear', 'poly', 'rbf', 'sigmoid'],\n",
    "    \n",
    "    # Polynomial kernel parameters\n",
    "    'degree': [2, 3, 4],  # Only relevant for 'poly' kernel\n",
    "    'coef0': [0, 0.1, 1],  # Only relevant for 'poly' and 'sigmoid' kernels\n",
    "\n",
    "    # RBF kernel parameters\n",
    "    'gamma': [0.001, 0.01, 0.1, 1, 10]  # Only relevant for 'rbf' kernel\n",
    "}\n",
    "\n",
    "# Split data\n",
    "X_train, X_test, y_train, y_test = train_test_split(X_resampled, y_resampled, test_size=0.3, random_state=42)\n",
    "\n",
    "# Initialize GridSearchCV\n",
    "grid_search = GridSearchCV(estimator=bestModel, param_grid=param_grid, cv=5, scoring='accuracy', n_jobs=-1, verbose=1)\n",
    "\n",
    "# Fit the model\n",
    "grid_search.fit(X_train, y_train)\n",
    "\n",
    "# Get the best parameters and the best score\n",
    "best_params = grid_search.best_params_\n",
    "best_score = grid_search.best_score_\n",
    "\n",
    "print(f\"Best Parameters: {best_params}\")\n",
    "print(f\"Best Score: {best_score:.4f}\")"
   ]
  },
  {
   "cell_type": "code",
   "execution_count": 869,
   "id": "95a8135c-a4e0-41ad-bbf7-06e5b377f487",
   "metadata": {},
   "outputs": [
    {
     "data": {
      "text/plain": [
       "['svc_model.joblib']"
      ]
     },
     "execution_count": 869,
     "metadata": {},
     "output_type": "execute_result"
    }
   ],
   "source": [
    "# Define the SVC model with the best parameters\n",
    "svc_model = SVC(\n",
    "    C=1,  # Regularization parameter\n",
    "    class_weight='balanced',  # Class weighting\n",
    "    coef0=0,  # Coefficient for poly and sigmoid kernels\n",
    "    degree=2,  # Degree for polynomial kernel\n",
    "    gamma=0.1,  # Kernel coefficient for rbf, poly, and sigmoid\n",
    "    kernel='rbf',  # Radial basis function kernel\n",
    "    max_iter=-1,  # No limit on the number of iterations\n",
    "    tol=0.001,  # Tolerance for stopping criteria\n",
    "    random_state=42  # For reproducibility\n",
    ")\n",
    "# Fit the model\n",
    "svc_model.fit(X_resampled, y_resampled)\n",
    "# Save the trained model to a file\n",
    "joblib.dump(svc_model, 'svc_model.joblib')"
   ]
  },
  {
   "cell_type": "code",
   "execution_count": 875,
   "id": "b34c17a7-8c56-406f-a3b3-355757021fc3",
   "metadata": {},
   "outputs": [
    {
     "name": "stdout",
     "output_type": "stream",
     "text": [
      "User Story: \"As a registered user I want to be able to reset my password by receiving a password reset email so that I can regain access to my account if I forget my current password\"\n",
      "Prediction: 1\n",
      "\n",
      "User Story: \"Lol\"\n",
      "Prediction: 1\n",
      "\n",
      "User Story: \"As a user I want the application to be better so that it works more effectively\"\n",
      "Prediction: 0\n",
      "\n"
     ]
    }
   ],
   "source": [
    "unambiguous = \"As a registered user, I want to be able to reset my password by receiving a password reset email, so that I can regain access to my account if I forget my current password.\"\n",
    "ambiguous = \"Lol\"\n",
    "\n",
    "# Preprocess the user stories\n",
    "user_stories = [remove_punctuation(unambiguous), remove_punctuation(ambiguous), remove_punctuation(new)]\n",
    "\n",
    "# Vectorize the user stories\n",
    "user_stories_vectorized = vectorizer.transform(user_stories)\n",
    "\n",
    "# Predict using the trained SVC model\n",
    "predictions = svc_model.predict(user_stories_vectorized)\n",
    "\n",
    "# Print predictions\n",
    "for story, prediction in zip(user_stories, predictions):\n",
    "    print(f'User Story: \"{story}\"\\nPrediction: {prediction}\\n')"
   ]
  },
  {
   "cell_type": "code",
   "execution_count": 831,
   "id": "98d8cbc4-a55d-48e5-ace2-5aee470a44f8",
   "metadata": {
    "scrolled": true
   },
   "outputs": [
    {
     "name": "stdout",
     "output_type": "stream",
     "text": [
      "                                        User Stories  Unambiguous Criteria\n",
      "0  As a Data user, I want to have the 12-19-2017 ...                   NaN\n",
      "1  As a UI designer, I want to redesign the Resou...                   NaN\n",
      "2  As a UI designer, I want to report to the Agen...                   NaN\n",
      "3  As a UI designer, I want to move on to round 2...                   NaN\n",
      "4  As a UI designer, I want to move on to round 2...                   NaN\n",
      "                                        User Stories  Unambiguous Criteria\n",
      "0  As a Data user, I want to have the 12-19-2017 ...                     0\n",
      "1  As a UI designer, I want to redesign the Resou...                     1\n",
      "2  As a UI designer, I want to report to the Agen...                     1\n",
      "3  As a UI designer, I want to move on to round 2...                     1\n",
      "4  As a UI designer, I want to move on to round 2...                     1\n"
     ]
    }
   ],
   "source": [
    "import joblib\n",
    "import pandas as pd\n",
    "import re\n",
    "import string\n",
    "from sklearn.feature_extraction.text import TfidfVectorizer\n",
    "\n",
    "# Load the unlabelled data\n",
    "df_unlabelled = pd.read_csv('./labelledData/output.csv')\n",
    "\n",
    "# Display the first few rows to ensure the data is loaded correctly\n",
    "print(df_unlabelled.head())\n",
    "\n",
    "# Preprocessing function\n",
    "def remove_punctuation(text):\n",
    "    if isinstance(text, str):\n",
    "        return re.sub(f'[{re.escape(string.punctuation)}]', '', text)\n",
    "    else:\n",
    "        return ''  # Return an empty string if the input is not a string\n",
    "\n",
    "# Apply preprocessing\n",
    "texts = df_unlabelled['User Stories'].apply(remove_punctuation)\n",
    "\n",
    "# Load the saved TF-IDF Vectorizer (the one used during training)\n",
    "vectorizer = joblib.load('tfidf_vectorizer.joblib')\n",
    "\n",
    "# Transform the unlabelled data using the loaded vectorizer\n",
    "X = vectorizer.transform(texts)\n",
    "\n",
    "# Load the trained SVM model\n",
    "svc_model = joblib.load('svc_model.joblib')\n",
    "\n",
    "# Predict the labels for the unlabelled data\n",
    "predicted_labels = svc_model.predict(X)\n",
    "\n",
    "# Add the predictions to the dataframe\n",
    "df_unlabelled['Unambiguous Criteria'] = predicted_labels\n",
    "\n",
    "# Save the updated DataFrame to a new CSV file\n",
    "df_unlabelled.to_csv('./labelledData/new_output_with_prediction.csv', index=False)\n",
    "\n",
    "# Display the first few rows of the updated DataFrame to confirm\n",
    "print(df_unlabelled.head())\n"
   ]
  },
  {
   "cell_type": "code",
   "execution_count": null,
   "id": "bd495887-7f32-42e0-99b5-cbcc1c9db1be",
   "metadata": {},
   "outputs": [],
   "source": []
  }
 ],
 "metadata": {
  "kernelspec": {
   "display_name": "Python 3 (ipykernel)",
   "language": "python",
   "name": "python3"
  },
  "language_info": {
   "codemirror_mode": {
    "name": "ipython",
    "version": 3
   },
   "file_extension": ".py",
   "mimetype": "text/x-python",
   "name": "python",
   "nbconvert_exporter": "python",
   "pygments_lexer": "ipython3",
   "version": "3.12.4"
  }
 },
 "nbformat": 4,
 "nbformat_minor": 5
}

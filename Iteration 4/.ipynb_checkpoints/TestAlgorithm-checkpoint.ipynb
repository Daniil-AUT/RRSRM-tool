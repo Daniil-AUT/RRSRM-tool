{
 "cells": [
  {
   "cell_type": "code",
   "execution_count": null,
   "id": "f37e1fd4-c7dd-4dac-9695-1272add3c34b",
   "metadata": {},
   "outputs": [],
   "source": [
    "!pip install joblib"
   ]
  },
  {
   "cell_type": "code",
   "execution_count": 19,
   "id": "8c4b77e1-bea5-4fb3-b3f5-f2d748a37340",
   "metadata": {},
   "outputs": [],
   "source": [
    "import joblib\n",
    "import re\n",
    "import string"
   ]
  },
  {
   "cell_type": "code",
   "execution_count": 21,
   "id": "bd7c28cd-8a55-4187-9b0b-f9fb166a4386",
   "metadata": {},
   "outputs": [],
   "source": [
    "# Load the model from the .joblib file\n",
    "svc_model = joblib.load('svc_model.joblib')"
   ]
  },
  {
   "cell_type": "code",
   "execution_count": 23,
   "id": "bd2ac2a6-c7e1-4d57-aae9-5a7a7acaff46",
   "metadata": {},
   "outputs": [],
   "source": [
    "# Preprocessing function\n",
    "def remove_punctuation(text):\n",
    "    if isinstance(text, str):\n",
    "        return re.sub(f'[{re.escape(string.punctuation)}]', '', text)\n",
    "    else:\n",
    "        return ''  # Handle non-string values by returning an empty string\n",
    "        \n",
    "vectoriseText = joblib.load('tfidf_vectorizer.joblib')"
   ]
  },
  {
   "cell_type": "code",
   "execution_count": 33,
   "id": "a5b70ffb-ba1d-434d-9b85-e5ccd5c3ba42",
   "metadata": {},
   "outputs": [
    {
     "name": "stdout",
     "output_type": "stream",
     "text": [
      "User Story: \"As a registered user I want to be able to reset my password by receiving a password reset email so that I can regain access to my account if I forget my current password\"\n",
      "Prediction: 1\n",
      "\n",
      "User Story: \"As a user I want to be able to view my profile information on the website\"\n",
      "Prediction: 0\n",
      "\n"
     ]
    }
   ],
   "source": [
    "unambiguous = \"As a registered user, I want to be able to reset my password by receiving a password reset email, so that I can regain access to my account if I forget my current password.\"\n",
    "ambiguous = \"As a user, I want to be able to view my profile information on the website.\"\n",
    "\n",
    "# Preprocess the user stories\n",
    "user_stories = [remove_punctuation(unambiguous), remove_punctuation(ambiguous)]\n",
    "\n",
    "# Vectorize the user stories\n",
    "user_stories_vectorized = vectoriseText.transform(user_stories)\n",
    "\n",
    "# Predict using the trained SVC model\n",
    "predictions = svc_model.predict(user_stories_vectorized)\n",
    "\n",
    "# Print predictions\n",
    "for story, prediction in zip(user_stories, predictions):\n",
    "    print(f'User Story: \"{story}\"\\nPrediction: {prediction}\\n')"
   ]
  },
  {
   "cell_type": "code",
   "execution_count": null,
   "id": "351b365f-d7cc-4d69-b538-0aa8687914f3",
   "metadata": {},
   "outputs": [],
   "source": []
  }
 ],
 "metadata": {
  "kernelspec": {
   "display_name": "Python 3 (ipykernel)",
   "language": "python",
   "name": "python3"
  },
  "language_info": {
   "codemirror_mode": {
    "name": "ipython",
    "version": 3
   },
   "file_extension": ".py",
   "mimetype": "text/x-python",
   "name": "python",
   "nbconvert_exporter": "python",
   "pygments_lexer": "ipython3",
   "version": "3.12.4"
  }
 },
 "nbformat": 4,
 "nbformat_minor": 5
}
